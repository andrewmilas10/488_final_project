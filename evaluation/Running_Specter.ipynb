{
  "cells": [
    {
      "cell_type": "markdown",
      "metadata": {
        "id": "Xo_AmCPd-0w2"
      },
      "source": [
        "**Imports and Setup**\n",
        "\n",
        "Use a GPU with at least 40GB of RAM (otherwise use a smaller batch size for training and evaluation)."
      ]
    },
    {
      "cell_type": "code",
      "execution_count": null,
      "metadata": {
        "id": "aGSMAs8UvBSN"
      },
      "outputs": [],
      "source": [
        "!pip install -r scirepeval/requirements.txt"
      ]
    },
    {
      "cell_type": "code",
      "execution_count": null,
      "metadata": {
        "id": "JOTr3LE3Wd8l"
      },
      "outputs": [],
      "source": [
        "!pip uninstall torchtext -y\n",
        "!pip install torchtext"
      ]
    },
    {
      "cell_type": "code",
      "execution_count": null,
      "metadata": {
        "id": "f1cIk40BYiNd"
      },
      "outputs": [],
      "source": [
        "!pip uninstall torchvision -y\n",
        "!pip install torchvision"
      ]
    },
    {
      "cell_type": "code",
      "execution_count": null,
      "metadata": {
        "id": "uUQK3cE6ZM34"
      },
      "outputs": [],
      "source": [
        "!pip uninstall tensorflow protobuf -y\n",
        "!pip install tensorflow\n",
        "!pip install \"numpy<1.25.0,>=1.18.5\"\n",
        "!pip install protobuf==3.20.*\n"
      ]
    },
    {
      "cell_type": "markdown",
      "metadata": {
        "id": "T7DyHiCA_eP0"
      },
      "source": [
        "**Train Model**"
      ]
    },
    {
      "cell_type": "code",
      "execution_count": null,
      "metadata": {
        "id": "klFy4z7WDy09"
      },
      "outputs": [],
      "source": [
        "%cd /content/scirepeval/training"
      ]
    },
    {
      "cell_type": "markdown",
      "metadata": {
        "id": "OwxCGIIC_wBv"
      },
      "source": [
        "Run the following cell with the correct tasks_config.json file. For example, we share tasks_config_A.json to use Dataset A as labelled in our final report. For other datasets, the config should be modified with the correct dataset path and the correct train and validation/dev split sizes. \n",
        "\n",
        "The model will be saved in `./lightning_logs/full_run/model_name/`. We then download the model and upload it into HuggingFace so that it is compatible with the evaluation script."
      ]
    },
    {
      "cell_type": "code",
      "execution_count": null,
      "metadata": {
        "id": "aUpOA4AHpKYQ"
      },
      "outputs": [],
      "source": [
        "!python pl_training.py --gpu 1 --batch-size 24 --tasks-config tasks_config_A.json allenai/specter2_base model_name"
      ]
    },
    {
      "cell_type": "markdown",
      "metadata": {
        "id": "xvljpraxrhXB"
      },
      "source": [
        "**Evaluate Model**"
      ]
    },
    {
      "cell_type": "code",
      "execution_count": null,
      "metadata": {
        "id": "5CTQOhBLJIO8"
      },
      "outputs": [],
      "source": [
        "%cd /content/scirepeval/evaluation\n",
        "!touch __init__.py\n",
        "%cd /content\n"
      ]
    },
    {
      "cell_type": "markdown",
      "metadata": {
        "id": "cJw4zTHJAXq6"
      },
      "source": [
        "Change `user/model` to the correct HuggingFace model. Then the evaluation metrics will be sent to `output.json`."
      ]
    },
    {
      "cell_type": "code",
      "execution_count": null,
      "metadata": {
        "id": "d2F4CpON6zuC"
      },
      "outputs": [],
      "source": [
        "!echo $PYTHONPATH\n",
        "%env PYTHONPATH=/content/scirepeval:/env/python\n",
        "!echo $PYTHONPATH\n",
        "%cd scirepeval\n",
        "!python scirepeval.py --batch-size 32 -m user/model --output output.json"
      ]
    }
  ],
  "metadata": {
    "accelerator": "GPU",
    "colab": {
      "gpuType": "A100",
      "machine_shape": "hm",
      "provenance": []
    },
    "kernelspec": {
      "display_name": "Python 3",
      "name": "python3"
    },
    "language_info": {
      "name": "python"
    }
  },
  "nbformat": 4,
  "nbformat_minor": 0
}
