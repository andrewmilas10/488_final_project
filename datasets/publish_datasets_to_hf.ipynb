{
 "cells": [
  {
   "cell_type": "code",
   "execution_count": 1,
   "metadata": {},
   "outputs": [],
   "source": [
    "import os\n",
    "import random\n",
    "from random import sample\n",
    "from datasets import load_dataset, Dataset, DatasetDict\n",
    "from huggingface_hub import login\n",
    "import pickle\n",
    "from dotenv import load_dotenv\n",
    "load_dotenv()\n",
    "\n",
    "CITED_NEG_STRIDE = 10\n",
    "NON_CITED_NEG_STRIDE = 10\n",
    "NON_CITED_NEG_NUM_EASY = 7\n",
    "\n",
    "random.seed(42)"
   ]
  },
  {
   "cell_type": "markdown",
   "metadata": {},
   "source": [
    "### Reading triplets from saved files"
   ]
  },
  {
   "cell_type": "code",
   "execution_count": 2,
   "metadata": {},
   "outputs": [
    {
     "name": "stdout",
     "output_type": "stream",
     "text": [
      "Number of triplets: 176035\n"
     ]
    }
   ],
   "source": [
    "# Reading triplets where the pos paper is highly influential and the neg is also cited but not highly influential\n",
    "cited_neg_triplets = []\n",
    "for i in range(0, CITED_NEG_STRIDE):\n",
    "    with open(f\"saved_triplets/cited_neg_start_{i}_stride_{CITED_NEG_STRIDE}.pkl\", 'rb') as file:\n",
    "        data = pickle.load(file)\n",
    "        cited_neg_triplets += data['results']\n",
    "        \n",
    "print(\"Number of triplets:\", len(cited_neg_triplets))"
   ]
  },
  {
   "cell_type": "code",
   "execution_count": 10,
   "metadata": {},
   "outputs": [
    {
     "name": "stdout",
     "output_type": "stream",
     "text": [
      "Number of triplets with easy negs: 67230 and hard negs: 25631. Total: 92861\n"
     ]
    }
   ],
   "source": [
    "# Reading triplets where the pos paper is highly influential and the neg is not cited by the query paper. For hard negs these are cited though by the pos paper\n",
    "non_cited_neg_triplets_easy = []\n",
    "non_cited_neg_triplets_hard = []\n",
    "for i in range(0, NON_CITED_NEG_NUM_EASY):\n",
    "    with open(f\"saved_triplets/non_cited_neg_start_{i}_stride_{NON_CITED_NEG_STRIDE}_hard_False.pkl\", 'rb') as file:\n",
    "        data = pickle.load(file)\n",
    "        non_cited_neg_triplets_easy += data['results']\n",
    "\n",
    "for i in range(NON_CITED_NEG_NUM_EASY, NON_CITED_NEG_STRIDE):\n",
    "    with open(f\"saved_triplets/non_cited_neg_start_{i}_stride_{NON_CITED_NEG_STRIDE}_hard_True.pkl\", 'rb') as file:\n",
    "        data = pickle.load(file)\n",
    "        non_cited_neg_triplets_hard += data['results']\n",
    "\n",
    "easy_len, hard_len = len(non_cited_neg_triplets_easy), len(non_cited_neg_triplets_hard)\n",
    "print(f\"Number of triplets with easy negs: {easy_len} and hard negs: {hard_len}. Total: {easy_len + hard_len}\")\n",
    "\n",
    "def combine_non_cited(max_size, hard_rate):\n",
    "    \"\"\"Combining non_cited triplets into one list with a specified ratio of hard negs\"\"\"\n",
    "    size = int(min(max_size, hard_len / hard_rate, easy_len / (1 - hard_rate))) if hard_rate not in [0, 1] else max_size\n",
    "    easy_triplets = random.sample(non_cited_neg_triplets_easy, int(size*(1-hard_rate)))\n",
    "    hard_triplets = random.sample(non_cited_neg_triplets_hard, int(size*(hard_rate)))\n",
    "    elen, hlen = len(easy_triplets), len(hard_triplets)\n",
    "    print(f\"Combining {elen} easy negs with {hlen} hard negs for total size of {elen + hlen}\")\n",
    "    non_cited_neg = easy_triplets + hard_triplets\n",
    "    random.shuffle(non_cited_neg)\n",
    "    return non_cited_neg"
   ]
  },
  {
   "cell_type": "markdown",
   "metadata": {},
   "source": [
    "### Publishing Datasets with different distributions of negative types"
   ]
  },
  {
   "cell_type": "code",
   "execution_count": 4,
   "metadata": {},
   "outputs": [
    {
     "name": "stdout",
     "output_type": "stream",
     "text": [
      "Token will not been saved to git credential helper. Pass `add_to_git_credential=True` if you want to set the git credential as well.\n",
      "Token is valid (permission: write).\n",
      "Your token has been saved to /home/andrewm/store/hf/huggingface/token\n",
      "Login successful\n"
     ]
    }
   ],
   "source": [
    "HF_ACCESS_TOKEN = os.getenv('HF_ACCESS_TOKEN')\n",
    "login(token = HF_ACCESS_TOKEN)\n",
    "HF_USER = os.getenv('HF_USERNAME')"
   ]
  },
  {
   "cell_type": "code",
   "execution_count": 11,
   "metadata": {},
   "outputs": [],
   "source": [
    "cite_prediction_new = load_dataset(\"allenai/scirepeval\", \"cite_prediction_new\")\n",
    "def publish(name, max_size, percent_cited_neg, percent_non_cited_neg, hard_rate = 0.4):\n",
    "    # Collect non-cited triplets \n",
    "    if percent_non_cited_neg == 0:\n",
    "        non_cited_neg_triplets = []\n",
    "        size = max_size\n",
    "    else:\n",
    "        non_cited_neg_triplets = combine_non_cited((max_size*percent_non_cited_neg)//100, hard_rate)\n",
    "        size = min(max_size, int(len(non_cited_neg_triplets)/percent_non_cited_neg * 100))\n",
    "\n",
    "    # Combine all triplet types\n",
    "    cite_pred_percentage = 1-(percent_cited_neg + percent_non_cited_neg)/100\n",
    "    sampled_indices = sample(range(len(cite_prediction_new['train'])), int(size * cite_pred_percentage))\n",
    "    cite_pred_subset = cite_prediction_new['train'].select(sampled_indices)\n",
    "    mixed_dataset = list(cite_pred_subset) + sample(non_cited_neg_triplets, round(size*percent_non_cited_neg/100)) \\\n",
    "                        + sample(cited_neg_triplets, round(size*percent_cited_neg/100))\n",
    "    random.shuffle(mixed_dataset)\n",
    "\n",
    "    # Publish to HF\n",
    "    dataset = Dataset.from_list(mixed_dataset)\n",
    "    split_dataset = dataset.train_test_split(test_size=0.1)\n",
    "    combined_dataset = DatasetDict({\n",
    "        'train': split_dataset['train'],\n",
    "        'validation': split_dataset['test']  \n",
    "    })\n",
    "    ds_name = f\"{HF_USER}/{name}\"\n",
    "    print(f\"Uploading dataset with name {ds_name} and length {len(mixed_dataset)} to Huggingface\")\n",
    "    combined_dataset.push_to_hub(ds_name)\n",
    "    print('Dataset published')"
   ]
  },
  {
   "cell_type": "code",
   "execution_count": 12,
   "metadata": {},
   "outputs": [
    {
     "name": "stdout",
     "output_type": "stream",
     "text": [
      "Combining 3000 easy negs with 2000 hard negs for total size of 5000\n",
      "Uploading dataset with name cheafdevo56/Influential_NonCitedNegs_10_Percent and length 50000 to Huggingface\n"
     ]
    },
    {
     "data": {
      "application/vnd.jupyter.widget-view+json": {
       "model_id": "ad6c87e91f944b5a8bb27bda411bd790",
       "version_major": 2,
       "version_minor": 0
      },
      "text/plain": [
       "Uploading the dataset shards:   0%|          | 0/1 [00:00<?, ?it/s]"
      ]
     },
     "metadata": {},
     "output_type": "display_data"
    },
    {
     "data": {
      "application/vnd.jupyter.widget-view+json": {
       "model_id": "fb92ea9f89e1478e9851104b592b5552",
       "version_major": 2,
       "version_minor": 0
      },
      "text/plain": [
       "Creating parquet from Arrow format:   0%|          | 0/45 [00:00<?, ?ba/s]"
      ]
     },
     "metadata": {},
     "output_type": "display_data"
    },
    {
     "data": {
      "application/vnd.jupyter.widget-view+json": {
       "model_id": "55bd44011f2241f3a30990f90b77088b",
       "version_major": 2,
       "version_minor": 0
      },
      "text/plain": [
       "Uploading the dataset shards:   0%|          | 0/1 [00:00<?, ?it/s]"
      ]
     },
     "metadata": {},
     "output_type": "display_data"
    },
    {
     "data": {
      "application/vnd.jupyter.widget-view+json": {
       "model_id": "7745f3698ef04ae5935366a36fd8996c",
       "version_major": 2,
       "version_minor": 0
      },
      "text/plain": [
       "Creating parquet from Arrow format:   0%|          | 0/5 [00:00<?, ?ba/s]"
      ]
     },
     "metadata": {},
     "output_type": "display_data"
    },
    {
     "data": {
      "application/vnd.jupyter.widget-view+json": {
       "model_id": "ff06523a472a4ac6befb897804e3ef8d",
       "version_major": 2,
       "version_minor": 0
      },
      "text/plain": [
       "README.md:   0%|          | 0.00/849 [00:00<?, ?B/s]"
      ]
     },
     "metadata": {},
     "output_type": "display_data"
    },
    {
     "name": "stdout",
     "output_type": "stream",
     "text": [
      "Dataset published\n",
      "Uploading dataset with name cheafdevo56/Influential_CitedNegs_5_Percent and length 50000 to Huggingface\n"
     ]
    },
    {
     "data": {
      "application/vnd.jupyter.widget-view+json": {
       "model_id": "d771039408da42e7ab70e8d795f06574",
       "version_major": 2,
       "version_minor": 0
      },
      "text/plain": [
       "Uploading the dataset shards:   0%|          | 0/1 [00:00<?, ?it/s]"
      ]
     },
     "metadata": {},
     "output_type": "display_data"
    },
    {
     "data": {
      "application/vnd.jupyter.widget-view+json": {
       "model_id": "7586d05bd7cd4950ba6f8afc4d24dada",
       "version_major": 2,
       "version_minor": 0
      },
      "text/plain": [
       "Creating parquet from Arrow format:   0%|          | 0/45 [00:00<?, ?ba/s]"
      ]
     },
     "metadata": {},
     "output_type": "display_data"
    },
    {
     "data": {
      "application/vnd.jupyter.widget-view+json": {
       "model_id": "17b7187eef2f4259b82b4dd5ca3f2110",
       "version_major": 2,
       "version_minor": 0
      },
      "text/plain": [
       "Uploading the dataset shards:   0%|          | 0/1 [00:00<?, ?it/s]"
      ]
     },
     "metadata": {},
     "output_type": "display_data"
    },
    {
     "data": {
      "application/vnd.jupyter.widget-view+json": {
       "model_id": "8aa3db48b9ed4d2181f8cd25080272ee",
       "version_major": 2,
       "version_minor": 0
      },
      "text/plain": [
       "Creating parquet from Arrow format:   0%|          | 0/5 [00:00<?, ?ba/s]"
      ]
     },
     "metadata": {},
     "output_type": "display_data"
    },
    {
     "name": "stdout",
     "output_type": "stream",
     "text": [
      "Dataset published\n",
      "Combining 1500 easy negs with 1000 hard negs for total size of 2500\n",
      "Uploading dataset with name cheafdevo56/Influential_MixedNegTypes_10_Percent and length 50000 to Huggingface\n"
     ]
    },
    {
     "data": {
      "application/vnd.jupyter.widget-view+json": {
       "model_id": "0dc36911ce78480aae108195b003399f",
       "version_major": 2,
       "version_minor": 0
      },
      "text/plain": [
       "Uploading the dataset shards:   0%|          | 0/1 [00:00<?, ?it/s]"
      ]
     },
     "metadata": {},
     "output_type": "display_data"
    },
    {
     "data": {
      "application/vnd.jupyter.widget-view+json": {
       "model_id": "e178b5f5e3384018af28a9122133db19",
       "version_major": 2,
       "version_minor": 0
      },
      "text/plain": [
       "Creating parquet from Arrow format:   0%|          | 0/45 [00:00<?, ?ba/s]"
      ]
     },
     "metadata": {},
     "output_type": "display_data"
    },
    {
     "data": {
      "application/vnd.jupyter.widget-view+json": {
       "model_id": "0a8253af9a2a43a88c238a3940c4d8c6",
       "version_major": 2,
       "version_minor": 0
      },
      "text/plain": [
       "Uploading the dataset shards:   0%|          | 0/1 [00:00<?, ?it/s]"
      ]
     },
     "metadata": {},
     "output_type": "display_data"
    },
    {
     "data": {
      "application/vnd.jupyter.widget-view+json": {
       "model_id": "657ce64a76fe42d68422dc2e375380cd",
       "version_major": 2,
       "version_minor": 0
      },
      "text/plain": [
       "Creating parquet from Arrow format:   0%|          | 0/5 [00:00<?, ?ba/s]"
      ]
     },
     "metadata": {},
     "output_type": "display_data"
    },
    {
     "name": "stdout",
     "output_type": "stream",
     "text": [
      "Dataset published\n",
      "Uploading dataset with name cheafdevo56/NoInfluentials and length 50000 to Huggingface\n"
     ]
    },
    {
     "data": {
      "application/vnd.jupyter.widget-view+json": {
       "model_id": "0119bd4c41a44582af6a0ff3cf6925d3",
       "version_major": 2,
       "version_minor": 0
      },
      "text/plain": [
       "Uploading the dataset shards:   0%|          | 0/1 [00:00<?, ?it/s]"
      ]
     },
     "metadata": {},
     "output_type": "display_data"
    },
    {
     "data": {
      "application/vnd.jupyter.widget-view+json": {
       "model_id": "d3c13a14bc8e43798816a7e90747b19f",
       "version_major": 2,
       "version_minor": 0
      },
      "text/plain": [
       "Creating parquet from Arrow format:   0%|          | 0/45 [00:00<?, ?ba/s]"
      ]
     },
     "metadata": {},
     "output_type": "display_data"
    },
    {
     "data": {
      "application/vnd.jupyter.widget-view+json": {
       "model_id": "db8771b6e36c480f9ea2cc50aa616c34",
       "version_major": 2,
       "version_minor": 0
      },
      "text/plain": [
       "Uploading the dataset shards:   0%|          | 0/1 [00:00<?, ?it/s]"
      ]
     },
     "metadata": {},
     "output_type": "display_data"
    },
    {
     "data": {
      "application/vnd.jupyter.widget-view+json": {
       "model_id": "0c9d695c9ad74d658bad68bfc2538177",
       "version_major": 2,
       "version_minor": 0
      },
      "text/plain": [
       "Creating parquet from Arrow format:   0%|          | 0/5 [00:00<?, ?ba/s]"
      ]
     },
     "metadata": {},
     "output_type": "display_data"
    },
    {
     "data": {
      "application/vnd.jupyter.widget-view+json": {
       "model_id": "17b7de56aa184774b5665c460da7f12b",
       "version_major": 2,
       "version_minor": 0
      },
      "text/plain": [
       "README.md:   0%|          | 0.00/849 [00:00<?, ?B/s]"
      ]
     },
     "metadata": {},
     "output_type": "display_data"
    },
    {
     "name": "stdout",
     "output_type": "stream",
     "text": [
      "Dataset published\n"
     ]
    }
   ],
   "source": [
    "# Note the parameters to 'publish' can be changed to create different datasets. Below are some we used\n",
    "publish(\"Influential_NonCitedNegs_10_Percent\", 50000, 0, 10)\n",
    "publish(\"Influential_CitedNegs_5_Percent\", 50000, 5, 0)\n",
    "publish(\"Influential_MixedNegTypes_10_Percent\", 50000, 5, 5)\n",
    "publish(\"NoInfluentials\", 50000, 0, 0)"
   ]
  },
  {
   "cell_type": "code",
   "execution_count": null,
   "metadata": {},
   "outputs": [],
   "source": []
  }
 ],
 "metadata": {
  "kernelspec": {
   "display_name": "Python 3",
   "language": "python",
   "name": "python3"
  },
  "language_info": {
   "codemirror_mode": {
    "name": "ipython",
    "version": 3
   },
   "file_extension": ".py",
   "mimetype": "text/x-python",
   "name": "python",
   "nbconvert_exporter": "python",
   "pygments_lexer": "ipython3",
   "version": "3.11.4"
  }
 },
 "nbformat": 4,
 "nbformat_minor": 2
}
