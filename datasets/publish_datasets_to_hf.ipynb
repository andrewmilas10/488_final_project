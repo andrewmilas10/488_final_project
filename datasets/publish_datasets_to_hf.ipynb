{
 "cells": [
  {
   "cell_type": "code",
   "execution_count": 1,
   "metadata": {},
   "outputs": [],
   "source": [
    "import os\n",
    "import random\n",
    "from random import sample\n",
    "from datasets import load_dataset, Dataset, DatasetDict\n",
    "from huggingface_hub import login\n",
    "import pickle\n",
    "from dotenv import load_dotenv\n",
    "load_dotenv()\n",
    "\n",
    "CITED_NEG_STRIDE = 10\n",
    "NON_CITED_NEG_STRIDE = 10\n",
    "NON_CITED_NEG_NUM_EASY = 7\n",
    "\n",
    "random.seed(42)"
   ]
  },
  {
   "cell_type": "markdown",
   "metadata": {},
   "source": [
    "### Reading triplets from saved files"
   ]
  },
  {
   "cell_type": "code",
   "execution_count": 11,
   "metadata": {},
   "outputs": [
    {
     "name": "stdout",
     "output_type": "stream",
     "text": [
      "Number of triplets: 127180\n"
     ]
    }
   ],
   "source": [
    "# Reading triplets where the pos paper is highly influential and the neg is also cited but not highly influential\n",
    "cited_neg_triplets = []\n",
    "for i in range(0, CITED_NEG_STRIDE):\n",
    "    with open(f\"saved_triplets/cited_neg_start_{i}_stride_{CITED_NEG_STRIDE}.pkl\", 'rb') as file:\n",
    "        data = pickle.load(file)\n",
    "        cited_neg_triplets += data['results']\n",
    "        \n",
    "print(\"Number of triplets:\", len(cited_neg_triplets))"
   ]
  },
  {
   "cell_type": "code",
   "execution_count": 8,
   "metadata": {},
   "outputs": [
    {
     "name": "stdout",
     "output_type": "stream",
     "text": [
      "Number of triplets with easy negs: 68108 and hard negs: 26000. Total: 94108\n"
     ]
    }
   ],
   "source": [
    "# Reading triplets where the pos paper is highly influential and the neg is not cited by the query paper. For hard negs these are cited though by the pos paper\n",
    "non_cited_neg_triplets_easy = []\n",
    "non_cited_neg_triplets_hard = []\n",
    "for i in range(0, NON_CITED_NEG_NUM_EASY):\n",
    "    with open(f\"saved_triplets/non_cited_neg_start_{i}_stride_{NON_CITED_NEG_STRIDE}_hard_False.pkl\", 'rb') as file:\n",
    "        data = pickle.load(file)\n",
    "        non_cited_neg_triplets_easy += data['results']\n",
    "\n",
    "for i in range(NON_CITED_NEG_NUM_EASY, NON_CITED_NEG_STRIDE):\n",
    "    with open(f\"saved_triplets/non_cited_neg_start_{i}_stride_{NON_CITED_NEG_STRIDE}_hard_True.pkl\", 'rb') as file:\n",
    "        data = pickle.load(file)\n",
    "        non_cited_neg_triplets_hard += data['results']\n",
    "\n",
    "easy_len, hard_len = len(non_cited_neg_triplets_easy), len(non_cited_neg_triplets_hard)\n",
    "print(f\"Number of triplets with easy negs: {easy_len} and hard negs: {hard_len}. Total: {easy_len + hard_len}\")\n",
    "\n",
    "def combine_non_cited(max_size, hard_rate):\n",
    "    \"\"\"Combining non_cited triplets into one list with a specified ratio of hard negs\"\"\"\n",
    "    size = int(min(max_size, hard_len / hard_rate, easy_len / (1 - hard_rate))) if hard_rate not in [0, 1] else max_size\n",
    "    easy_triplets = random.sample(non_cited_neg_triplets_easy, int(size*(1-hard_rate)))\n",
    "    hard_triplets = random.sample(non_cited_neg_triplets_hard, int(size*(hard_rate)))\n",
    "    elen, hlen = len(easy_triplets), len(hard_triplets)\n",
    "    print(f\"Combining {elen} easy negs with {hlen} hard negs for total size of {elen + hlen}\")\n",
    "    non_cited_neg = easy_triplets + hard_triplets\n",
    "    random.shuffle(non_cited_neg)\n",
    "    return non_cited_neg"
   ]
  },
  {
   "cell_type": "markdown",
   "metadata": {},
   "source": [
    "### Publishing Datasets with different distributions of negative types"
   ]
  },
  {
   "cell_type": "code",
   "execution_count": 4,
   "metadata": {},
   "outputs": [
    {
     "name": "stdout",
     "output_type": "stream",
     "text": [
      "Token will not been saved to git credential helper. Pass `add_to_git_credential=True` if you want to set the git credential as well.\n",
      "Token is valid (permission: write).\n",
      "Your token has been saved to /home/andrewm/store/hf/huggingface/token\n",
      "Login successful\n"
     ]
    }
   ],
   "source": [
    "HF_ACCESS_TOKEN = os.getenv('HF_ACCESS_TOKEN')\n",
    "login(token = HF_ACCESS_TOKEN)\n",
    "HF_USER = os.getenv('HF_USERNAME')"
   ]
  },
  {
   "cell_type": "code",
   "execution_count": 5,
   "metadata": {},
   "outputs": [],
   "source": [
    "cite_prediction_new = load_dataset(\"allenai/scirepeval\", \"cite_prediction_new\")\n",
    "def publish(name, max_size, percent_cited_neg, percent_non_cited_neg, hard_rate = 0.4):\n",
    "    # Collect non-cited triplets \n",
    "    if percent_non_cited_neg == 0:\n",
    "        non_cited_neg_triplets = []\n",
    "        size = max_size\n",
    "    else:\n",
    "        non_cited_neg_triplets = combine_non_cited((max_size*percent_non_cited_neg)//100, hard_rate)\n",
    "        size = min(max_size, int(len(non_cited_neg_triplets)/percent_non_cited_neg * 100))\n",
    "\n",
    "    # Combine all triplet types\n",
    "    cite_pred_percentage = 1-(percent_cited_neg + percent_non_cited_neg)/100\n",
    "    sampled_indices = sample(range(len(cite_prediction_new['train'])), int(size * cite_pred_percentage))\n",
    "    cite_pred_subset = cite_prediction_new['train'].select(sampled_indices)\n",
    "    mixed_dataset = list(cite_pred_subset) + sample(non_cited_neg_triplets, round(size*percent_non_cited_neg/100)) \\\n",
    "                        + sample(cited_neg_triplets, round(size*percent_cited_neg/100))\n",
    "    random.shuffle(mixed_dataset)\n",
    "\n",
    "    # Publish to HF\n",
    "    dataset = Dataset.from_list(mixed_dataset)\n",
    "    split_dataset = dataset.train_test_split(test_size=0.1)\n",
    "    combined_dataset = DatasetDict({\n",
    "        'train': split_dataset['train'],\n",
    "        'validation': split_dataset['test']  \n",
    "    })\n",
    "    ds_name = f\"{HF_USER}/{name}\"\n",
    "    print(f\"Uploading dataset with name {ds_name} and length {len(mixed_dataset)} to Huggingface\")\n",
    "    combined_dataset.push_to_hub(ds_name)\n",
    "    print('Dataset published')"
   ]
  },
  {
   "cell_type": "code",
   "execution_count": 6,
   "metadata": {},
   "outputs": [
    {
     "name": "stdout",
     "output_type": "stream",
     "text": [
      "Uploading dataset with name cheafdevo56/NoInfluentials and length 50000 to Huggingface\n"
     ]
    },
    {
     "data": {
      "application/vnd.jupyter.widget-view+json": {
       "model_id": "c8d848977f194b45a9c2639fbd136317",
       "version_major": 2,
       "version_minor": 0
      },
      "text/plain": [
       "Uploading the dataset shards:   0%|          | 0/1 [00:00<?, ?it/s]"
      ]
     },
     "metadata": {},
     "output_type": "display_data"
    },
    {
     "data": {
      "application/vnd.jupyter.widget-view+json": {
       "model_id": "a482d4a1889e417bbec0f26e2bf36cdc",
       "version_major": 2,
       "version_minor": 0
      },
      "text/plain": [
       "Creating parquet from Arrow format:   0%|          | 0/45 [00:00<?, ?ba/s]"
      ]
     },
     "metadata": {},
     "output_type": "display_data"
    },
    {
     "data": {
      "application/vnd.jupyter.widget-view+json": {
       "model_id": "03d391a638624e07a729ee4fb1db39c1",
       "version_major": 2,
       "version_minor": 0
      },
      "text/plain": [
       "Uploading the dataset shards:   0%|          | 0/1 [00:00<?, ?it/s]"
      ]
     },
     "metadata": {},
     "output_type": "display_data"
    },
    {
     "data": {
      "application/vnd.jupyter.widget-view+json": {
       "model_id": "9f353c219dd34d57b33dde55e45790f1",
       "version_major": 2,
       "version_minor": 0
      },
      "text/plain": [
       "Creating parquet from Arrow format:   0%|          | 0/5 [00:00<?, ?ba/s]"
      ]
     },
     "metadata": {},
     "output_type": "display_data"
    },
    {
     "data": {
      "application/vnd.jupyter.widget-view+json": {
       "model_id": "7b9b2bdb7410488e89248dce1af261d7",
       "version_major": 2,
       "version_minor": 0
      },
      "text/plain": [
       "README.md:   0%|          | 0.00/849 [00:00<?, ?B/s]"
      ]
     },
     "metadata": {},
     "output_type": "display_data"
    },
    {
     "name": "stdout",
     "output_type": "stream",
     "text": [
      "Dataset published\n",
      "Uploading dataset with name cheafdevo56/Influential_CitedNegs_1_Percent and length 50000 to Huggingface\n"
     ]
    },
    {
     "data": {
      "application/vnd.jupyter.widget-view+json": {
       "model_id": "8a0d48828cd94520a608824f663b3377",
       "version_major": 2,
       "version_minor": 0
      },
      "text/plain": [
       "Uploading the dataset shards:   0%|          | 0/1 [00:00<?, ?it/s]"
      ]
     },
     "metadata": {},
     "output_type": "display_data"
    },
    {
     "data": {
      "application/vnd.jupyter.widget-view+json": {
       "model_id": "3eb30ecd61a049f8bdd8d3c93292addf",
       "version_major": 2,
       "version_minor": 0
      },
      "text/plain": [
       "Creating parquet from Arrow format:   0%|          | 0/45 [00:00<?, ?ba/s]"
      ]
     },
     "metadata": {},
     "output_type": "display_data"
    },
    {
     "data": {
      "application/vnd.jupyter.widget-view+json": {
       "model_id": "4f4eb8389aa6408b9fd30b18195e8836",
       "version_major": 2,
       "version_minor": 0
      },
      "text/plain": [
       "Uploading the dataset shards:   0%|          | 0/1 [00:00<?, ?it/s]"
      ]
     },
     "metadata": {},
     "output_type": "display_data"
    },
    {
     "data": {
      "application/vnd.jupyter.widget-view+json": {
       "model_id": "c83e937d88a84fe0bc755e9ec0420bb6",
       "version_major": 2,
       "version_minor": 0
      },
      "text/plain": [
       "Creating parquet from Arrow format:   0%|          | 0/5 [00:00<?, ?ba/s]"
      ]
     },
     "metadata": {},
     "output_type": "display_data"
    },
    {
     "name": "stdout",
     "output_type": "stream",
     "text": [
      "Dataset published\n",
      "Uploading dataset with name cheafdevo56/Influential_CitedNegs_5_Percent and length 50000 to Huggingface\n"
     ]
    },
    {
     "data": {
      "application/vnd.jupyter.widget-view+json": {
       "model_id": "dbf24de7a15a4053b11060335d228595",
       "version_major": 2,
       "version_minor": 0
      },
      "text/plain": [
       "Uploading the dataset shards:   0%|          | 0/1 [00:00<?, ?it/s]"
      ]
     },
     "metadata": {},
     "output_type": "display_data"
    },
    {
     "data": {
      "application/vnd.jupyter.widget-view+json": {
       "model_id": "af70224be32d4e4bbb8edfa0af386d71",
       "version_major": 2,
       "version_minor": 0
      },
      "text/plain": [
       "Creating parquet from Arrow format:   0%|          | 0/45 [00:00<?, ?ba/s]"
      ]
     },
     "metadata": {},
     "output_type": "display_data"
    },
    {
     "data": {
      "application/vnd.jupyter.widget-view+json": {
       "model_id": "3bafdeba966a46c98957e9957e0754a3",
       "version_major": 2,
       "version_minor": 0
      },
      "text/plain": [
       "Uploading the dataset shards:   0%|          | 0/1 [00:00<?, ?it/s]"
      ]
     },
     "metadata": {},
     "output_type": "display_data"
    },
    {
     "data": {
      "application/vnd.jupyter.widget-view+json": {
       "model_id": "f4f1cbfbb3684b28baacc2e4a31d8032",
       "version_major": 2,
       "version_minor": 0
      },
      "text/plain": [
       "Creating parquet from Arrow format:   0%|          | 0/5 [00:00<?, ?ba/s]"
      ]
     },
     "metadata": {},
     "output_type": "display_data"
    },
    {
     "data": {
      "application/vnd.jupyter.widget-view+json": {
       "model_id": "ac068e2571374b93b0f66453a3e6bddc",
       "version_major": 2,
       "version_minor": 0
      },
      "text/plain": [
       "README.md:   0%|          | 0.00/849 [00:00<?, ?B/s]"
      ]
     },
     "metadata": {},
     "output_type": "display_data"
    },
    {
     "name": "stdout",
     "output_type": "stream",
     "text": [
      "Dataset published\n",
      "Uploading dataset with name cheafdevo56/Influential_CitedNegs_10_Percent and length 50000 to Huggingface\n"
     ]
    },
    {
     "data": {
      "application/vnd.jupyter.widget-view+json": {
       "model_id": "b528cd84d02648698a24802ec09a3275",
       "version_major": 2,
       "version_minor": 0
      },
      "text/plain": [
       "Uploading the dataset shards:   0%|          | 0/1 [00:00<?, ?it/s]"
      ]
     },
     "metadata": {},
     "output_type": "display_data"
    },
    {
     "data": {
      "application/vnd.jupyter.widget-view+json": {
       "model_id": "1198b8d2183245e3b6a53739472c3bf8",
       "version_major": 2,
       "version_minor": 0
      },
      "text/plain": [
       "Creating parquet from Arrow format:   0%|          | 0/45 [00:00<?, ?ba/s]"
      ]
     },
     "metadata": {},
     "output_type": "display_data"
    },
    {
     "data": {
      "application/vnd.jupyter.widget-view+json": {
       "model_id": "48a9bd84550e4d7289bc93aa36fa2add",
       "version_major": 2,
       "version_minor": 0
      },
      "text/plain": [
       "Uploading the dataset shards:   0%|          | 0/1 [00:00<?, ?it/s]"
      ]
     },
     "metadata": {},
     "output_type": "display_data"
    },
    {
     "data": {
      "application/vnd.jupyter.widget-view+json": {
       "model_id": "775fce79f5eb470591d1487ce8f23f5c",
       "version_major": 2,
       "version_minor": 0
      },
      "text/plain": [
       "Creating parquet from Arrow format:   0%|          | 0/5 [00:00<?, ?ba/s]"
      ]
     },
     "metadata": {},
     "output_type": "display_data"
    },
    {
     "name": "stdout",
     "output_type": "stream",
     "text": [
      "Dataset published\n",
      "Combining 3000 easy negs with 2000 hard negs for total size of 5000\n",
      "Uploading dataset with name cheafdevo56/Influential_NonCitedNegs_10_Percent and length 50000 to Huggingface\n"
     ]
    },
    {
     "data": {
      "application/vnd.jupyter.widget-view+json": {
       "model_id": "58e1f471a64a444686d2b9537270f1a5",
       "version_major": 2,
       "version_minor": 0
      },
      "text/plain": [
       "Uploading the dataset shards:   0%|          | 0/1 [00:00<?, ?it/s]"
      ]
     },
     "metadata": {},
     "output_type": "display_data"
    },
    {
     "data": {
      "application/vnd.jupyter.widget-view+json": {
       "model_id": "a9ba9e8b910d457b9c191199581ee600",
       "version_major": 2,
       "version_minor": 0
      },
      "text/plain": [
       "Creating parquet from Arrow format:   0%|          | 0/45 [00:00<?, ?ba/s]"
      ]
     },
     "metadata": {},
     "output_type": "display_data"
    },
    {
     "data": {
      "application/vnd.jupyter.widget-view+json": {
       "model_id": "17d3b53744df4525936ffe91b95856be",
       "version_major": 2,
       "version_minor": 0
      },
      "text/plain": [
       "Uploading the dataset shards:   0%|          | 0/1 [00:00<?, ?it/s]"
      ]
     },
     "metadata": {},
     "output_type": "display_data"
    },
    {
     "data": {
      "application/vnd.jupyter.widget-view+json": {
       "model_id": "01c2420e0cdd44e1b178df0a801fefdf",
       "version_major": 2,
       "version_minor": 0
      },
      "text/plain": [
       "Creating parquet from Arrow format:   0%|          | 0/5 [00:00<?, ?ba/s]"
      ]
     },
     "metadata": {},
     "output_type": "display_data"
    },
    {
     "data": {
      "application/vnd.jupyter.widget-view+json": {
       "model_id": "de9172cae89845b9aff3b63dccaaf00a",
       "version_major": 2,
       "version_minor": 0
      },
      "text/plain": [
       "README.md:   0%|          | 0.00/849 [00:00<?, ?B/s]"
      ]
     },
     "metadata": {},
     "output_type": "display_data"
    },
    {
     "name": "stdout",
     "output_type": "stream",
     "text": [
      "Dataset published\n",
      "Combining 6000 easy negs with 4000 hard negs for total size of 10000\n",
      "Uploading dataset with name cheafdevo56/Influential_NonCitedNegs_10_Percent_large and length 100000 to Huggingface\n"
     ]
    },
    {
     "data": {
      "application/vnd.jupyter.widget-view+json": {
       "model_id": "29291803486d4e77950aa01964353ed0",
       "version_major": 2,
       "version_minor": 0
      },
      "text/plain": [
       "Uploading the dataset shards:   0%|          | 0/1 [00:00<?, ?it/s]"
      ]
     },
     "metadata": {},
     "output_type": "display_data"
    },
    {
     "data": {
      "application/vnd.jupyter.widget-view+json": {
       "model_id": "558a02c5d7b845efa1b2179ea80178ce",
       "version_major": 2,
       "version_minor": 0
      },
      "text/plain": [
       "Creating parquet from Arrow format:   0%|          | 0/90 [00:00<?, ?ba/s]"
      ]
     },
     "metadata": {},
     "output_type": "display_data"
    },
    {
     "data": {
      "application/vnd.jupyter.widget-view+json": {
       "model_id": "73b505c60b704ac680672b40d83d410b",
       "version_major": 2,
       "version_minor": 0
      },
      "text/plain": [
       "Uploading the dataset shards:   0%|          | 0/1 [00:00<?, ?it/s]"
      ]
     },
     "metadata": {},
     "output_type": "display_data"
    },
    {
     "data": {
      "application/vnd.jupyter.widget-view+json": {
       "model_id": "bdf518de8057475397b52bac716cf88e",
       "version_major": 2,
       "version_minor": 0
      },
      "text/plain": [
       "Creating parquet from Arrow format:   0%|          | 0/10 [00:00<?, ?ba/s]"
      ]
     },
     "metadata": {},
     "output_type": "display_data"
    },
    {
     "data": {
      "application/vnd.jupyter.widget-view+json": {
       "model_id": "692b7ed881ad4631813d01c6c3bb59da",
       "version_major": 2,
       "version_minor": 0
      },
      "text/plain": [
       "README.md:   0%|          | 0.00/850 [00:00<?, ?B/s]"
      ]
     },
     "metadata": {},
     "output_type": "display_data"
    },
    {
     "name": "stdout",
     "output_type": "stream",
     "text": [
      "Dataset published\n",
      "Combining 1500 easy negs with 1000 hard negs for total size of 2500\n",
      "Uploading dataset with name cheafdevo56/Influential_MixedNegTypes_10_Percent and length 50000 to Huggingface\n"
     ]
    },
    {
     "data": {
      "application/vnd.jupyter.widget-view+json": {
       "model_id": "398309753e4847a5a7cc22af8e238486",
       "version_major": 2,
       "version_minor": 0
      },
      "text/plain": [
       "Uploading the dataset shards:   0%|          | 0/1 [00:00<?, ?it/s]"
      ]
     },
     "metadata": {},
     "output_type": "display_data"
    },
    {
     "data": {
      "application/vnd.jupyter.widget-view+json": {
       "model_id": "ca6ddad1f9a04f939f1a3e2a26ca16cc",
       "version_major": 2,
       "version_minor": 0
      },
      "text/plain": [
       "Creating parquet from Arrow format:   0%|          | 0/45 [00:00<?, ?ba/s]"
      ]
     },
     "metadata": {},
     "output_type": "display_data"
    },
    {
     "data": {
      "application/vnd.jupyter.widget-view+json": {
       "model_id": "ab5c9d67e1364d239c4784f4c9c7452c",
       "version_major": 2,
       "version_minor": 0
      },
      "text/plain": [
       "Uploading the dataset shards:   0%|          | 0/1 [00:00<?, ?it/s]"
      ]
     },
     "metadata": {},
     "output_type": "display_data"
    },
    {
     "data": {
      "application/vnd.jupyter.widget-view+json": {
       "model_id": "f77f6b263afd497aa4deb4c99c90cf8e",
       "version_major": 2,
       "version_minor": 0
      },
      "text/plain": [
       "Creating parquet from Arrow format:   0%|          | 0/5 [00:00<?, ?ba/s]"
      ]
     },
     "metadata": {},
     "output_type": "display_data"
    },
    {
     "data": {
      "application/vnd.jupyter.widget-view+json": {
       "model_id": "1c1ea418a4434ff2a074da2ea05bf3e6",
       "version_major": 2,
       "version_minor": 0
      },
      "text/plain": [
       "README.md:   0%|          | 0.00/849 [00:00<?, ?B/s]"
      ]
     },
     "metadata": {},
     "output_type": "display_data"
    },
    {
     "name": "stdout",
     "output_type": "stream",
     "text": [
      "Dataset published\n"
     ]
    }
   ],
   "source": [
    "# Note the parameters to 'publish' can be changed to create different datasets. Below are some we used\n",
    "publish(\"NoInfluentials\", 50000, 0, 0)\n",
    "publish(\"Influential_CitedNegs_1_Percent\", 50000, 1, 0)\n",
    "publish(\"Influential_CitedNegs_5_Percent\", 50000, 5, 0)\n",
    "publish(\"Influential_CitedNegs_10_Percent\", 50000, 10, 0)\n",
    "publish(\"Influential_NonCitedNegs_10_Percent\", 50000, 0, 10)\n",
    "publish(\"Influential_NonCitedNegs_10_Percent_large\", 100000, 0, 10)\n",
    "publish(\"Influential_MixedNegTypes_10_Percent\", 50000, 5, 5)\n"
   ]
  },
  {
   "cell_type": "code",
   "execution_count": 10,
   "metadata": {},
   "outputs": [
    {
     "name": "stdout",
     "output_type": "stream",
     "text": [
      "Uploading dataset with name cheafdevo56/All_Hard_HIC_Triplets and length 176035 to Huggingface\n"
     ]
    },
    {
     "data": {
      "application/vnd.jupyter.widget-view+json": {
       "model_id": "db03d686dccc4db59c8e7085bf25d629",
       "version_major": 2,
       "version_minor": 0
      },
      "text/plain": [
       "Uploading the dataset shards:   0%|          | 0/2 [00:00<?, ?it/s]"
      ]
     },
     "metadata": {},
     "output_type": "display_data"
    },
    {
     "data": {
      "application/vnd.jupyter.widget-view+json": {
       "model_id": "38ad5104da564c0cb142578400cdf06a",
       "version_major": 2,
       "version_minor": 0
      },
      "text/plain": [
       "Creating parquet from Arrow format:   0%|          | 0/80 [00:00<?, ?ba/s]"
      ]
     },
     "metadata": {},
     "output_type": "display_data"
    },
    {
     "data": {
      "application/vnd.jupyter.widget-view+json": {
       "model_id": "fcdbc9ee1311418c885b3fad368de535",
       "version_major": 2,
       "version_minor": 0
      },
      "text/plain": [
       "Creating parquet from Arrow format:   0%|          | 0/80 [00:00<?, ?ba/s]"
      ]
     },
     "metadata": {},
     "output_type": "display_data"
    },
    {
     "data": {
      "application/vnd.jupyter.widget-view+json": {
       "model_id": "67ad6e9bb9ff49ebb59eebc7b1df197a",
       "version_major": 2,
       "version_minor": 0
      },
      "text/plain": [
       "Uploading the dataset shards:   0%|          | 0/1 [00:00<?, ?it/s]"
      ]
     },
     "metadata": {},
     "output_type": "display_data"
    },
    {
     "data": {
      "application/vnd.jupyter.widget-view+json": {
       "model_id": "eada0ff833df4009853fc1270804dc19",
       "version_major": 2,
       "version_minor": 0
      },
      "text/plain": [
       "Creating parquet from Arrow format:   0%|          | 0/18 [00:00<?, ?ba/s]"
      ]
     },
     "metadata": {},
     "output_type": "display_data"
    },
    {
     "name": "stdout",
     "output_type": "stream",
     "text": [
      "Dataset published\n",
      "Combining 39000 easy negs with 26000 hard negs for total size of 65000\n",
      "Uploading dataset with name cheafdevo56/All_EASY_MEDIUM_HIC_Triplets and length 65000 to Huggingface\n"
     ]
    },
    {
     "data": {
      "application/vnd.jupyter.widget-view+json": {
       "model_id": "4b1c10c974ea4161a614c716c268e97e",
       "version_major": 2,
       "version_minor": 0
      },
      "text/plain": [
       "Uploading the dataset shards:   0%|          | 0/1 [00:00<?, ?it/s]"
      ]
     },
     "metadata": {},
     "output_type": "display_data"
    },
    {
     "data": {
      "application/vnd.jupyter.widget-view+json": {
       "model_id": "a31dc67dcf3342a5af33872eb9640742",
       "version_major": 2,
       "version_minor": 0
      },
      "text/plain": [
       "Creating parquet from Arrow format:   0%|          | 0/59 [00:00<?, ?ba/s]"
      ]
     },
     "metadata": {},
     "output_type": "display_data"
    },
    {
     "data": {
      "application/vnd.jupyter.widget-view+json": {
       "model_id": "287e5edf7aad48dcaf0e10220a769dfb",
       "version_major": 2,
       "version_minor": 0
      },
      "text/plain": [
       "Uploading the dataset shards:   0%|          | 0/1 [00:00<?, ?it/s]"
      ]
     },
     "metadata": {},
     "output_type": "display_data"
    },
    {
     "data": {
      "application/vnd.jupyter.widget-view+json": {
       "model_id": "e3b43f4d3c854170afe973d125ae1c85",
       "version_major": 2,
       "version_minor": 0
      },
      "text/plain": [
       "Creating parquet from Arrow format:   0%|          | 0/7 [00:00<?, ?ba/s]"
      ]
     },
     "metadata": {},
     "output_type": "display_data"
    },
    {
     "name": "stdout",
     "output_type": "stream",
     "text": [
      "Dataset published\n"
     ]
    }
   ],
   "source": [
    "# We also publish datasets of only our new types of triples\n",
    "publish(\"All_Hard_HIC_Triplets\", 176035, 100, 0)\n",
    "publish(\"All_EASY_MEDIUM_HIC_Triplets\", 100000, 0, 100)"
   ]
  },
  {
   "cell_type": "code",
   "execution_count": null,
   "metadata": {},
   "outputs": [],
   "source": []
  }
 ],
 "metadata": {
  "kernelspec": {
   "display_name": "Python 3",
   "language": "python",
   "name": "python3"
  },
  "language_info": {
   "codemirror_mode": {
    "name": "ipython",
    "version": 3
   },
   "file_extension": ".py",
   "mimetype": "text/x-python",
   "name": "python",
   "nbconvert_exporter": "python",
   "pygments_lexer": "ipython3",
   "version": "3.11.4"
  }
 },
 "nbformat": 4,
 "nbformat_minor": 2
}
